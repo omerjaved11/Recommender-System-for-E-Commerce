{
 "cells": [
  {
   "cell_type": "markdown",
   "metadata": {},
   "source": [
    "# Different Recommender Sysyems Implementations\n"
   ]
  },
  {
   "cell_type": "markdown",
   "metadata": {},
   "source": [
    "### Access your Django models from jupyter notebook and test your RecSys"
   ]
  },
  {
   "cell_type": "markdown",
   "metadata": {},
   "source": [
    "1. Create a virtual envirnment ( you can use your Django Project virtual envirnment )\n",
    "\n",
    "    :~$ mkvirtualenv myfirstenv\n",
    "    \n",
    "    \n",
    "2. Activate your virtual envirnment\n",
    "\n",
    "    :~$ pip install virtualenvwrapper\n",
    "\n",
    "    :~$ workon myfirstenv\n",
    "    \n",
    "    \n",
    "3. Install Jupyter notebook and Ipykernal in your new envirnment.\n",
    "\n",
    "    (myfirstenv):~$ pip install jupyter\n",
    "\n",
    "    (myfirstenv):~$ pip install ipykernel\n",
    "\n",
    "\n",
    "- jupyter comes with ipykernel, but somehow you manage to get an error due to ipykernel, then for reference ipykernel package can be installed using:\n",
    "\n",
    "\n",
    "4. Install all requirnments of your Django Project in your new virtual env from requirnment.txt file\n",
    "\n",
    "    (myfirstenv):~$ pip install -r requirnment.txt\n",
    "\n",
    "\n",
    "5. Install virtual env in your ipykernel\n",
    "\n",
    "    (myfirstenv):~$ python -m ipykernel install --user --name myfirstenv --display-name \"myfirstenv\"\n",
    "\n",
    "\n",
    "6. Start new jupyter notebook server\n",
    "\n",
    "    (myfirstenv):~$ jupyter notebook \n",
    "    \n",
    "    or \n",
    "    \n",
    "    :~$ jupyter notebook\n",
    "    \n",
    "    ( No need to be in your virtual envir )\n",
    "\n",
    "\n",
    "7. Open browser and goto your notebook link http://localhost:8888/\n",
    "\n",
    "\n",
    "8. In dropdown **New** you will see name of your virtual envirnment select that.\n",
    "\n",
    "\n",
    "\n"
   ]
  },
  {
   "cell_type": "markdown",
   "metadata": {},
   "source": [
    "### Create a WSGi App to access your Django models"
   ]
  },
  {
   "cell_type": "code",
   "execution_count": 1,
   "metadata": {
    "scrolled": true
   },
   "outputs": [
    {
     "name": "stderr",
     "output_type": "stream",
     "text": [
      "/home/omer/.virtualenvs/env1/local/lib/python3.7/site-packages/psycopg2/__init__.py:144: UserWarning: The psycopg2 wheel package will be renamed from release 2.8; in order to keep installing from binary please use \"pip install psycopg2-binary\" instead. For details see: <http://initd.org/psycopg/docs/install.html#binary-install-from-pypi>.\n",
      "  \"\"\")\n"
     ]
    }
   ],
   "source": [
    "import os\n",
    "import sys\n",
    "from django.utils import timezone\n",
    "from datetime import timedelta\n",
    "from django.db import models\n",
    "\n",
    "# Change path according to your project location\n",
    "path = \"/home/omer/FYP/e_commerce\"\n",
    "sys.path.append(path)\n",
    "os.chdir(path)\n",
    "\n",
    "from django.core.wsgi import get_wsgi_application\n",
    "\n",
    "# yourProjectName.yourProjectSetting\n",
    "settings = \"e_commerce.settings_local\"\n",
    "\n",
    "os.environ.setdefault(\"DJANGO_SETTINGS_MODULE\", settings)\n",
    "os.environ[\"DJANGO_SETTINGS_MODULE\"]= settings\n",
    "\n",
    "application = get_wsgi_application()\n",
    "\n"
   ]
  },
  {
   "cell_type": "markdown",
   "metadata": {},
   "source": [
    "###### Now you can work with models"
   ]
  },
  {
   "cell_type": "code",
   "execution_count": 2,
   "metadata": {},
   "outputs": [],
   "source": [
    "from modules.products.models import Product,CustomerProductRating,ProductRating\n",
    "from hitcount.models import HitCount\n"
   ]
  },
  {
   "cell_type": "code",
   "execution_count": 3,
   "metadata": {},
   "outputs": [
    {
     "data": {
      "text/plain": [
       "<QuerySet [<Product: 6-BJ2715-D-BLUE-Casual Jeans in D-Blue SKU: BJ2715-D-BLUE>, <Product: 7-BJ2722-L-BLUE-Casual Jeans in L-Blue SKU: BJ2722-L-BLUE>, <Product: 8-BJ2722-BLUE-Casual Jeans in Blue SKU: BJ2722-BLUE>, <Product: 9-BJ2721-BLUE-Casual Jeans in Blue SKU: BJ2721-BLUE>, <Product: 10-BJ2715-BLUE-Casual Jeans in Blue SKU: BJ2715-BLUE>, <Product: 11-BJ2714-L-BLUE-Casual Jeans in L-Blue SKU: BJ2714-L-BLUE>, <Product: 12-BJ2719-BLUE-Casual Jeans in Blue SKU: BJ2719-BLUE>, <Product: 13-BJ2714-D-BLUE-Casual Jeans in D-Blue SKU: BJ2714-D-BLUE>, <Product: 14-BJ2714-BLUE-Casual Jeans in Blue SKU: BJ2714-BLUE>, <Product: 31-WKL0106-CREAM-Digital Printed Stitched In Cream (WKL0106-Cream)>, <Product: 32-WKL0101-D-PINK-Digital Printed Stitched In D-Pink (WKL0101-D-Pink)>, <Product: 33-WKL0099-BROWN-Digital Printed Stitched In Brown (WKL0099-BROWN)>, <Product: 34-WKL0098-BLUE-Digital Printed Stitched In Blue (WKL0098-BLUE)>, <Product: 36-WKL0059-GREEN-Digital Printed Stitched Kurti In Green (WKL0059-GREEN)>, <Product: 37-WKL0056-YELLOW-Digital Printed Stitched Kurti In Yellow (WKL0056-YELLOW)>, <Product: 38-WKL0095-CREAM-Women Stitched Kurti In Cream (WKL0095-Cream)>, <Product: 39-WKL0086-PURPLE-Women Stitched Kurti In Purple (WKL0086-Purple)>, <Product: 40-WKL0077-BLUE-Women Stitched Kurti In Blue (WKL0077-Blue)>, <Product: 41-WKL0077-PURPLE-Women Stitched Kurti In Purple (WKL0077-PURPLE)>, <Product: 42-WKL0036-BROWN-Digital Printed Stitched Kurti In Brown (WKL0036-BROWN)>, '...(remaining elements truncated)...']>"
      ]
     },
     "execution_count": 3,
     "metadata": {},
     "output_type": "execute_result"
    }
   ],
   "source": [
    "Product.objects.all()\n",
    "# Query to Get all Products from Product model"
   ]
  },
  {
   "cell_type": "code",
   "execution_count": 4,
   "metadata": {},
   "outputs": [
    {
     "data": {
      "text/plain": [
       "<QuerySet [<CustomerProductRating: CustomerProductRating object (193)>, <CustomerProductRating: CustomerProductRating object (195)>, <CustomerProductRating: CustomerProductRating object (197)>, <CustomerProductRating: CustomerProductRating object (199)>, <CustomerProductRating: CustomerProductRating object (201)>, <CustomerProductRating: CustomerProductRating object (203)>, <CustomerProductRating: CustomerProductRating object (205)>, <CustomerProductRating: CustomerProductRating object (207)>, <CustomerProductRating: CustomerProductRating object (209)>, <CustomerProductRating: CustomerProductRating object (211)>, <CustomerProductRating: CustomerProductRating object (213)>, <CustomerProductRating: CustomerProductRating object (215)>, <CustomerProductRating: CustomerProductRating object (217)>, <CustomerProductRating: CustomerProductRating object (219)>, <CustomerProductRating: CustomerProductRating object (221)>, <CustomerProductRating: CustomerProductRating object (223)>, <CustomerProductRating: CustomerProductRating object (225)>, <CustomerProductRating: CustomerProductRating object (227)>, <CustomerProductRating: CustomerProductRating object (229)>, <CustomerProductRating: CustomerProductRating object (231)>, '...(remaining elements truncated)...']>"
      ]
     },
     "execution_count": 4,
     "metadata": {},
     "output_type": "execute_result"
    }
   ],
   "source": [
    "CustomerProductRating.objects.all()\n",
    "# Customer_Product_Product Rating"
   ]
  },
  {
   "cell_type": "code",
   "execution_count": 5,
   "metadata": {
    "scrolled": false
   },
   "outputs": [
    {
     "data": {
      "text/plain": [
       "<QuerySet [<HitCount: 6-BJ2715-D-BLUE-Casual Jeans in D-Blue SKU: BJ2715-D-BLUE>, <HitCount: 120-AD19175-BLUE-Formal Men Shirt SKU: AD19175-BLUE>, <HitCount: 7-BJ2722-L-BLUE-Casual Jeans in L-Blue SKU: BJ2722-L-BLUE>, <HitCount: 33-WKL0099-BROWN-Digital Printed Stitched In Brown (WKL0099-BROWN)>, <HitCount: 34-WKL0098-BLUE-Digital Printed Stitched In Blue (WKL0098-BLUE)>, <HitCount: 11-BJ2714-L-BLUE-Casual Jeans in L-Blue SKU: BJ2714-L-BLUE>, <HitCount: 31-WKL0106-CREAM-Digital Printed Stitched In Cream (WKL0106-Cream)>, <HitCount: 71-NA622-MAROON-Diner's Men's Polo T-Shirt SKU: NA622-MAROON>, <HitCount: 5-BJ2685-M-Blue-Casual Jeans in M-Blue SKU: BJ2685-M-Blue>, <HitCount: 9-BJ2721-BLUE-Casual Jeans in Blue SKU: BJ2721-BLUE>, <HitCount: 89-NA586-WHITE-Diner's Men's Polo T-Shirt SKU: NA586-WHITE>, <HitCount: 78-NA484-WHITE-Diner's Men's Polo,Clearance T-Shirt SKU: NA484-WHITE>, <HitCount: 80-NA505-WHITE-Diner's Men's Polo, T-Shirt SKU: NA505-WHITE>, <HitCount: 166-AD18037-L-BLUE-Formal Men Shirt in L-Blue SKU: AD18037-L-BLUE>, <HitCount: 167-AB2271-PURPLE-Formal Men Shirt in Purple SKU: AB2271-PURPLE>, <HitCount: 152-AH18483-PINK-Casual Autograph Shirt in Pink SKU: AH18483-PINK>, <HitCount: 160-AH18472-Brown-Casual Autograph Shirt in Brown SKU: AH18472-Brown>, <HitCount: 182-AB206-L-Blue-Formal Plain Shirt in L-Blue SKU: AB206-L-Blue>, <HitCount: 55-NA580-White-Diner's Men's Polo, T-Shirt SKU: NA580-White>, <HitCount: 185-AG18537-N-BLUE-Casual Shirt in N-Blue Color SKU: AG18537-N-BLUE>, '...(remaining elements truncated)...']>"
      ]
     },
     "execution_count": 5,
     "metadata": {},
     "output_type": "execute_result"
    }
   ],
   "source": [
    "HitCount.objects.all()\n",
    "# All Hits"
   ]
  },
  {
   "cell_type": "code",
   "execution_count": 6,
   "metadata": {},
   "outputs": [
    {
     "data": {
      "text/plain": [
       "<Product: 5-BJ2685-M-Blue-Casual Jeans in M-Blue SKU: BJ2685-M-Blue>"
      ]
     },
     "execution_count": 6,
     "metadata": {},
     "output_type": "execute_result"
    }
   ],
   "source": [
    "prod1 = Product.objects.first()\n",
    "prod1"
   ]
  },
  {
   "cell_type": "markdown",
   "metadata": {},
   "source": [
    "### Popularity Recommender Systems"
   ]
  },
  {
   "cell_type": "code",
   "execution_count": null,
   "metadata": {},
   "outputs": [],
   "source": []
  },
  {
   "cell_type": "markdown",
   "metadata": {},
   "source": [
    "### 1 Most visited Products of all time\n",
    "\n",
    "* Such products having highest visited rate are Popular\n"
   ]
  },
  {
   "cell_type": "markdown",
   "metadata": {},
   "source": [
    "#####  Get the Top 10 Product Id from Hit Counter Table and sort them in accending order"
   ]
  },
  {
   "cell_type": "code",
   "execution_count": 13,
   "metadata": {},
   "outputs": [
    {
     "data": {
      "text/plain": [
       "<QuerySet [<Product: 6-BJ2715-D-BLUE-Casual Jeans in D-Blue SKU: BJ2715-D-BLUE>, <Product: 7-BJ2722-L-BLUE-Casual Jeans in L-Blue SKU: BJ2722-L-BLUE>, <Product: 33-WKL0099-BROWN-Digital Printed Stitched In Brown (WKL0099-BROWN)>, <Product: 120-AD19175-BLUE-Formal Men Shirt SKU: AD19175-BLUE>, <Product: 34-WKL0098-BLUE-Digital Printed Stitched In Blue (WKL0098-BLUE)>, <Product: 71-NA622-MAROON-Diner's Men's Polo T-Shirt SKU: NA622-MAROON>, <Product: 11-BJ2714-L-BLUE-Casual Jeans in L-Blue SKU: BJ2714-L-BLUE>, <Product: 5-BJ2685-M-Blue-Casual Jeans in M-Blue SKU: BJ2685-M-Blue>, <Product: 78-NA484-WHITE-Diner's Men's Polo,Clearance T-Shirt SKU: NA484-WHITE>, <Product: 12-BJ2719-BLUE-Casual Jeans in Blue SKU: BJ2719-BLUE>]>"
      ]
     },
     "execution_count": 13,
     "metadata": {},
     "output_type": "execute_result"
    }
   ],
   "source": [
    "#Get all Products and order them by their Hit Count.\n",
    "#Then Slice only top 10\n",
    "\n",
    "Product.objects.all().order_by('-hit_count_generic__hits')[:10]\n",
    "#Using Single Query"
   ]
  },
  {
   "cell_type": "markdown",
   "metadata": {},
   "source": [
    "##### Filter Out Products from Products models which are in above list "
   ]
  },
  {
   "cell_type": "code",
   "execution_count": 14,
   "metadata": {
    "scrolled": true
   },
   "outputs": [
    {
     "data": {
      "text/plain": [
       "<QuerySet [<Product: 5-BJ2685-M-Blue-Casual Jeans in M-Blue SKU: BJ2685-M-Blue>, <Product: 6-BJ2715-D-BLUE-Casual Jeans in D-Blue SKU: BJ2715-D-BLUE>, <Product: 7-BJ2722-L-BLUE-Casual Jeans in L-Blue SKU: BJ2722-L-BLUE>, <Product: 11-BJ2714-L-BLUE-Casual Jeans in L-Blue SKU: BJ2714-L-BLUE>, <Product: 33-WKL0099-BROWN-Digital Printed Stitched In Brown (WKL0099-BROWN)>, <Product: 34-WKL0098-BLUE-Digital Printed Stitched In Blue (WKL0098-BLUE)>, <Product: 71-NA622-MAROON-Diner's Men's Polo T-Shirt SKU: NA622-MAROON>, <Product: 78-NA484-WHITE-Diner's Men's Polo,Clearance T-Shirt SKU: NA484-WHITE>, <Product: 89-NA586-WHITE-Diner's Men's Polo T-Shirt SKU: NA586-WHITE>, <Product: 120-AD19175-BLUE-Formal Men Shirt SKU: AD19175-BLUE>]>"
      ]
     },
     "execution_count": 14,
     "metadata": {},
     "output_type": "execute_result"
    }
   ],
   "source": [
    "Product.objects.filter(pk__in = [object['object_pk'] for object in HitCount.objects.values('object_pk').order_by('-hits')[:10]])"
   ]
  },
  {
   "cell_type": "markdown",
   "metadata": {},
   "source": [
    "###  2. Most visited Products in last 7 days are Popular products"
   ]
  },
  {
   "cell_type": "code",
   "execution_count": 15,
   "metadata": {
    "scrolled": true
   },
   "outputs": [
    {
     "data": {
      "text/plain": [
       "<QuerySet [<Product: 120-AD19175-BLUE-Formal Men Shirt SKU: AD19175-BLUE>, <Product: 197-AG18539-WHITE-Casual Shirt in White SKU: AG18539-WHITE>, <Product: 160-AH18472-Brown-Casual Autograph Shirt in Brown SKU: AH18472-Brown>, <Product: 167-AB2271-PURPLE-Formal Men Shirt in Purple SKU: AB2271-PURPLE>, <Product: 182-AB206-L-Blue-Formal Plain Shirt in L-Blue SKU: AB206-L-Blue>, <Product: 169-AD18042-BLUE-Formal Men Shirt In Blue SKU: AD18042-BLUE>, <Product: 33-WKL0099-BROWN-Digital Printed Stitched In Brown (WKL0099-BROWN)>, <Product: 152-AH18483-PINK-Casual Autograph Shirt in Pink SKU: AH18483-PINK>, <Product: 166-AD18037-L-BLUE-Formal Men Shirt in L-Blue SKU: AD18037-L-BLUE>, <Product: 201-AG18538-BROWN-Casual Shirt in Brown SKU: AG18538-BROWN>]>"
      ]
     },
     "execution_count": 15,
     "metadata": {},
     "output_type": "execute_result"
    }
   ],
   "source": [
    "period = timezone.now() - timedelta(days=7)\n",
    "most_visited_in_7days = Product.objects.filter(hit_count_generic__hit__created__gte=period).annotate(\n",
    "        counts=models.Count('hit_count_generic__hit')\n",
    "    ).order_by('-counts')\n",
    "most_visited_in_7days.all()[:10]"
   ]
  },
  {
   "cell_type": "markdown",
   "metadata": {},
   "source": [
    "### 3. Top 10 Most Rated Products"
   ]
  },
  {
   "cell_type": "code",
   "execution_count": 16,
   "metadata": {
    "scrolled": true
   },
   "outputs": [
    {
     "data": {
      "text/plain": [
       "<QuerySet [<Product: 86-NA548-Green-Diner's Men's Polo, T-Shirt SKU: NA548-Green>, <Product: 88-NA587-GREEN-Diner's Men's Polo T-Shirt SKU: NA587-GREEN>, <Product: 90-NA586-RED-Diner's Men's Polo T-Shirt SKU: NA586-RED>, <Product: 92-NA591-RED-Diner's Men's Polo T-Shirt SKU: NA591-RED>, <Product: 96-NA589-RED-Diner's Men's Polo T-Shirt SKU: NA589-RED>, <Product: 97-NA595-BLUE-Diner's Men's Polo T-Shirt SKU: NA595-BLUE>]>"
      ]
     },
     "execution_count": 16,
     "metadata": {},
     "output_type": "execute_result"
    }
   ],
   "source": [
    "Product.objects.filter(pk__in=[p_id['product_id_id'] for p_id in CustomerProductRating.objects.values('product_id_id').order_by('product_rating_id_id')[:10]])"
   ]
  },
  {
   "cell_type": "markdown",
   "metadata": {},
   "source": [
    "### 4. Rating + How many People Rated using Formula"
   ]
  },
  {
   "cell_type": "code",
   "execution_count": 17,
   "metadata": {},
   "outputs": [],
   "source": [
    "import random\n",
    "from modules.products.models import ProductImage\n"
   ]
  },
  {
   "cell_type": "code",
   "execution_count": 18,
   "metadata": {},
   "outputs": [],
   "source": [
    "products=Product.objects.all()\n",
    "pridected_products = []\n",
    "sum_average_rating = 0\n",
    "no_of_user_list = []"
   ]
  },
  {
   "cell_type": "code",
   "execution_count": 19,
   "metadata": {},
   "outputs": [],
   "source": [
    "for p in products:\n",
    "    rating = CustomerProductRating.objects.filter(product_id=p.product_id)\n",
    "\n",
    "    count = 1\n",
    "    result = 0\n",
    "\n",
    "    for r in rating:\n",
    "        result = result + int(r.product_rating_id.product_rating_id)\n",
    "        count = count + 1\n",
    "\n",
    "    if count == 1:\n",
    "        pass\n",
    "    else:\n",
    "        count = count - 1\n",
    "\n",
    "    average_rating = round(result / count)\n",
    "    sum_average_rating = sum_average_rating + average_rating\n",
    "    no_of_user_list.append(count)\n",
    "\n",
    "    image = ProductImage.objects.filter(product_id=p.product_id)\n",
    "    image_count = image.count()\n",
    "    try:\n",
    "        image = image[image_count - 1].product_image.url\n",
    "    except Exception as e:\n",
    "        print(e)\n",
    "        pass\n",
    "\n",
    "    pridected_products.append({\"p_id\": p.product_id, \"p_title\": p.product_title, \"p_price\": p.product_selling_price,\n",
    "                               \"p_avg_rating\": average_rating, \"p_image\": image, \"no_users_rating\": count,\n",
    "                               \"weighted_rating\": 0})"
   ]
  },
  {
   "cell_type": "code",
   "execution_count": 20,
   "metadata": {},
   "outputs": [],
   "source": [
    "    try:\n",
    "        mean_rating = sum_average_rating / products.count()\n",
    "    except:\n",
    "        mean_rating = 0.0\n",
    "    try:\n",
    "        minimum_criteria = np.quantile(no_of_user_list, 0.8)\n",
    "        print(minimum_criteria)\n",
    "    except:\n",
    "        minimum_criteria=1"
   ]
  },
  {
   "cell_type": "code",
   "execution_count": 21,
   "metadata": {},
   "outputs": [],
   "source": [
    "    for pp in pridected_products:\n",
    "        weighted_rating = (\n",
    "                (pp[\"no_users_rating\"] / (pp[\"no_users_rating\"] + minimum_criteria)) * pp[\"p_avg_rating\"] +\n",
    "                (pp[\"no_users_rating\"] / (pp[\"no_users_rating\"] + minimum_criteria)) * pp[\"no_users_rating\"]\n",
    "        )\n",
    "        pp[\"weighted_rating\"] = weighted_rating\n",
    "        if pp[\"no_users_rating\"] < minimum_criteria:\n",
    "            pridected_products.remove(pp)\n",
    "\n",
    "    pridected_products = sorted(pridected_products, key=lambda k: k['weighted_rating'], reverse=True)\n",
    "    pridected_products = pridected_products[:25]"
   ]
  },
  {
   "cell_type": "code",
   "execution_count": 22,
   "metadata": {},
   "outputs": [],
   "source": [
    "    try:\n",
    "        pridected_products = random.sample(pridected_products, 8)\n",
    "\n",
    "    except Exception as e:\n",
    "        print(e)\n",
    "        pass"
   ]
  },
  {
   "cell_type": "code",
   "execution_count": 23,
   "metadata": {
    "collapsed": true
   },
   "outputs": [
    {
     "data": {
      "text/plain": [
       "[{'p_id': 85,\n",
       "  'p_title': \"Diner's Men's Polo, T-Shirt SKU: NA523-PINK\",\n",
       "  'p_price': 1690.0,\n",
       "  'p_avg_rating': 4,\n",
       "  'p_image': 'http://res.cloudinary.com/comsats/image/upload/v1541252904/me3ilxfjdjm7f1k1lz9c.jpg',\n",
       "  'no_users_rating': 5,\n",
       "  'weighted_rating': 7.5},\n",
       " {'p_id': 78,\n",
       "  'p_title': \"Diner's Men's Polo,Clearance T-Shirt SKU: NA484-WHITE\",\n",
       "  'p_price': 1690.0,\n",
       "  'p_avg_rating': 3,\n",
       "  'p_image': 'http://res.cloudinary.com/comsats/image/upload/v1541247739/idaqsswdlxsef1tgjgkq.jpg',\n",
       "  'no_users_rating': 5,\n",
       "  'weighted_rating': 6.666666666666667},\n",
       " {'p_id': 51,\n",
       "  'p_title': \"Diner's Men's Polo T-Shirt SKU: NA582-N-Blue\",\n",
       "  'p_price': 1960.0,\n",
       "  'p_avg_rating': 4,\n",
       "  'p_image': 'http://res.cloudinary.com/comsats/image/upload/v1541246703/l5pckys6i0zcyhc05fam.jpg',\n",
       "  'no_users_rating': 5,\n",
       "  'weighted_rating': 7.5},\n",
       " {'p_id': 41,\n",
       "  'p_title': 'Women Stitched Kurti In Purple (WKL0077-PURPLE)',\n",
       "  'p_price': 2490.0,\n",
       "  'p_avg_rating': 3,\n",
       "  'p_image': 'http://res.cloudinary.com/comsats/image/upload/v1541245873/suad4j8msqbepnk4k8cy.jpg',\n",
       "  'no_users_rating': 5,\n",
       "  'weighted_rating': 6.666666666666667},\n",
       " {'p_id': 58,\n",
       "  'p_title': \"Diner's Men's Polo T-Shirt SKU: NA600-Maroon\",\n",
       "  'p_price': 1960.0,\n",
       "  'p_avg_rating': 3,\n",
       "  'p_image': 'http://res.cloudinary.com/comsats/image/upload/v1541247427/l3jyzxhy2ucd35zysapm.jpg',\n",
       "  'no_users_rating': 5,\n",
       "  'weighted_rating': 6.666666666666667},\n",
       " {'p_id': 98,\n",
       "  'p_title': \"Diner's Men's Polo T-Shirt SKU: NA595-White\",\n",
       "  'p_price': 1960.0,\n",
       "  'p_avg_rating': 4,\n",
       "  'p_image': 'http://res.cloudinary.com/comsats/image/upload/v1541253151/k33eidlws5xpf4cbhy28.jpg',\n",
       "  'no_users_rating': 5,\n",
       "  'weighted_rating': 7.5},\n",
       " {'p_id': 63,\n",
       "  'p_title': \"Diner's Men's Polo T-Shirt SKU: NA605-Musterd\",\n",
       "  'p_price': 1960.0,\n",
       "  'p_avg_rating': 3,\n",
       "  'p_image': 'http://res.cloudinary.com/comsats/image/upload/v1541247501/daocklnzaogze7i4pcvt.jpg',\n",
       "  'no_users_rating': 5,\n",
       "  'weighted_rating': 6.666666666666667},\n",
       " {'p_id': 6,\n",
       "  'p_title': 'Casual Jeans in D-Blue SKU: BJ2715-D-BLUE',\n",
       "  'p_price': 2990.0,\n",
       "  'p_avg_rating': 3,\n",
       "  'p_image': 'http://res.cloudinary.com/comsats/image/upload/v1541233363/kcbeelwompkl7zp3fwwr.jpg',\n",
       "  'no_users_rating': 5,\n",
       "  'weighted_rating': 6.666666666666667}]"
      ]
     },
     "execution_count": 23,
     "metadata": {},
     "output_type": "execute_result"
    }
   ],
   "source": [
    "pridected_products\n"
   ]
  },
  {
   "cell_type": "markdown",
   "metadata": {},
   "source": [
    "### User to User CF RS U user to user\n",
    "\n"
   ]
  },
  {
   "cell_type": "code",
   "execution_count": 27,
   "metadata": {},
   "outputs": [],
   "source": [
    "\n",
    "#How to get the top-N recommendations for each user\n",
    "\n",
    "import pandas as pd\n",
    "\n",
    "from surprise import NormalPredictor\n",
    "from surprise import Dataset\n",
    "from surprise import Reader\n",
    "from surprise.model_selection import cross_validate\n",
    "from collections import defaultdict\n",
    "from surprise import SVD\n",
    "from surprise import Dataset\n",
    "\n",
    "\n",
    "def get_top_n(predictions, n=10):\n",
    "    '''Return the top-N recommendation for each user from a set of predictions.\n",
    "\n",
    "    Args:\n",
    "        predictions(list of Prediction objects): The list of predictions, as\n",
    "            returned by the test method of an algorithm.\n",
    "        n(int): The number of recommendation to output for each user. Default\n",
    "            is 10.\n",
    "\n",
    "    Returns:\n",
    "    A dict where keys are user (raw) ids and values are lists of tuples:\n",
    "        [(raw item id, rating estimation), ...] of size n.\n",
    "    '''\n",
    "\n",
    "    # First map the predictions to each user.\n",
    "    top_n = defaultdict(list)\n",
    "    for uid, iid, true_r, est, _ in predictions:\n",
    "        top_n[uid].append((iid, est))\n",
    "\n",
    "    # Then sort the predictions for each user and retrieve the k highest ones.\n",
    "    for uid, user_ratings in top_n.items():\n",
    "        user_ratings.sort(key=lambda x: x[1], reverse=True)\n",
    "        top_n[uid] = user_ratings[:n]\n",
    "\n",
    "    return top_n\n",
    "\n",
    "\n",
    "def user_cf_rs(user_id):\n",
    "\n",
    "\n",
    "    df = pd.DataFrame(list(CustomerProductRating.objects.all().values()))\n",
    "\n",
    "    # # A reader is still needed but only the rating_scale param is requiered.\n",
    "    reader = Reader(rating_scale=(1, 5))\n",
    "\n",
    "    # The columns must correspond to user id, item id and ratings (in that order).\n",
    "    data = Dataset.load_from_df(df[['user_id', 'product_id_id', 'product_rating_id_id']], reader)\n",
    "\n",
    "    # We can now use this dataset as we please, e.g. calling cross_validate\n",
    "    # cross_validate(NormalPredictor(), data, cv=2)\n",
    "\n",
    "    # First train an SVD algorithm on the movielens dataset.\n",
    "    # data = Dataset.load_builtin('ml-100k')\n",
    "    trainset = data.build_full_trainset()\n",
    "    algo = SVD()\n",
    "    algo.fit(trainset)\n",
    "\n",
    "    # Than predict ratings for all pairs (u, i) that are NOT in the training set.\n",
    "    testset = trainset.build_anti_testset()\n",
    "    predictions = algo.test(testset)\n",
    "\n",
    "    top_n = get_top_n(predictions, n=10)\n",
    "    \n",
    "    return [item[0] for item in top_n.get(user_id)]\n",
    "\n",
    "\n"
   ]
  },
  {
   "cell_type": "code",
   "execution_count": null,
   "metadata": {},
   "outputs": [],
   "source": [
    "user_cf_rs(35)"
   ]
  },
  {
   "cell_type": "markdown",
   "metadata": {},
   "source": [
    "### Item to Item Collaborative System\n"
   ]
  },
  {
   "cell_type": "code",
   "execution_count": 1,
   "metadata": {
    "collapsed": true
   },
   "outputs": [
    {
     "ename": "IndentationError",
     "evalue": "unexpected indent (<ipython-input-1-c4ba3390b016>, line 2)",
     "output_type": "error",
     "traceback": [
      "\u001b[0;36m  File \u001b[0;32m\"<ipython-input-1-c4ba3390b016>\"\u001b[0;36m, line \u001b[0;32m2\u001b[0m\n\u001b[0;31m    productmat = df.pivot_table(index='user_id', columns='product_id_id', values='product_rating_id_id',aggfunc='first').astype(float)\u001b[0m\n\u001b[0m    ^\u001b[0m\n\u001b[0;31mIndentationError\u001b[0m\u001b[0;31m:\u001b[0m unexpected indent\n"
     ]
    }
   ],
   "source": [
    "df = pd.DataFrame(list(CustomerProductRating.objects.all().values()))\n",
    "productmat = df.pivot_table(index='user_id', columns='product_id_id', values='product_rating_id_id',aggfunc='first').astype(float)\n",
    "df.product_rating_id_id = df.product_rating_id_id.astype(int)\n",
    "ratings = pd.DataFrame(df.groupby('product_id_id')['product_rating_id_id',].mean())\n",
    "ratings['num of ratings'] = pd.DataFrame(df.groupby('product_id_id')['product_rating_id_id'].count())\n",
    "productcorr = productmat.corr()\n",
    "\n",
    "corrMat = pd.DataFrame(productcorr[int(product_id)])\n",
    "corrMat.columns = ['Correlation']\n",
    "corrMat.dropna(inplace=True)\n",
    "\n",
    "corrMat = corrMat.join(ratings['num of ratings'])\n",
    "related_prod = corrMat[corrMat['num of ratings'] > 2].sort_values('Correlation', ascending=False)\n",
    "related_prod.drop(int(product_id), inplace=True)\n",
    "# related_products = Product.objects.filter(product_sub_category_id=product.product_sub_category_id).order_by('?')[:8]\n",
    "related_products = Product.objects.filter(pk__in=related_prod.index.values.tolist())"
   ]
  },
  {
   "cell_type": "markdown",
   "metadata": {},
   "source": [
    "### content Based Recommendations\n"
   ]
  },
  {
   "cell_type": "code",
   "execution_count": 6,
   "metadata": {},
   "outputs": [],
   "source": [
    "import pandas as pd\n",
    "# from rake_nltk import Rake\n",
    "import numpy as np\n",
    "from sklearn.metrics.pairwise import cosine_similarity\n",
    "from sklearn.feature_extraction.text import CountVectorizer\n",
    "\n",
    "\n",
    "def preprocess_contentRS(x):\n",
    "    new_list = []\n",
    "    for word in x.lower().split():\n",
    "#       print(word) word = word.lower()\n",
    "        if word not in ['the','in','and'] and word not in new_list:\n",
    "            new_list.append(word)\n",
    "    \n",
    "    return ' '.join(new_list)\n",
    "\n",
    "\n",
    "\n",
    "def recommendations(p_id):\n",
    "    df = pd.DataFrame(list(Product.objects.all().values()))\n",
    "\n",
    "    df = df[['product_id','product_description','product_title']]\n",
    "    # discarding the commas between the actors' full names and getting only the first three names\n",
    "    # df['Actors'] = df['Actors'].map(lambda x: x.split(',')[:3])\n",
    "    df['product_title'] = df.product_title.map(lambda x: [x[:x.find('(')]] if('(' in x) else [x.split(':')[0][:-4]])\n",
    "    # putting the genres in a list of words\n",
    "    # df['Genre'] = df['Genre'].map(lambda x: x.lower().split(','))\n",
    "    df['product_description']=df.product_description.map(lambda x: [i.split(':')[-1] for i in  x.split('\\n')])\n",
    "    # df['Director'] = df['Director'].map(lambda x: x.split(' '))\n",
    "\n",
    "    # merging together first and last name for each actor and director, so it's considered as one word \n",
    "    # and there is no mix up between people sharing a first name\n",
    "    for index, row in df.iterrows():\n",
    "        row['product_title'] = [x.lower().replace(' ','') for x in row['product_title']]\n",
    "        row['product_description'] = ''.join(row['product_description']).lower()\n",
    "\n",
    "\n",
    "    df.set_index('product_id', inplace = True)\n",
    "\n",
    "\n",
    "    df['bag_of_words'] = ''\n",
    "    columns = df.columns\n",
    "    for index, row in df.iterrows():\n",
    "        words = ''\n",
    "        for col in columns:\n",
    "            words = words + ' '.join(row[col])+ ' '\n",
    "\n",
    "        row['bag_of_words'] = words\n",
    "\n",
    "    df.drop(columns = [col for col in df.columns if col!= 'bag_of_words'], inplace = True)\n",
    "    df['bag_of_words'] = df.bag_of_words.apply(preprocess_contentRS)\n",
    "\n",
    "    # instantiating and generating the count matrix\n",
    "    count = CountVectorizer()\n",
    "    count_matrix = count.fit_transform(df['bag_of_words'])\n",
    "\n",
    "    cosine_sim = cosine_similarity(count_matrix, count_matrix)\n",
    "\n",
    "\n",
    "    # creating a Series for the products p_id so they are associated to an ordered numerical\n",
    "    # list I will use later to match the indexes\n",
    "    indices = pd.Series(df.index)\n",
    "    \n",
    "    recommended_products = []\n",
    "    \n",
    "    # gettin the index of the movie that matches the p_id\n",
    "    idx = indices[indices == p_id].index[0]\n",
    "\n",
    "    # creating a Series with the similarity scores in descending order\n",
    "    score_series = pd.Series(cosine_sim[idx]).sort_values(ascending = False)\n",
    "\n",
    "    # getting the indexes of the 10 most similar preoducts\n",
    "    top_10_indexes = list(score_series.iloc[1:11].index)\n",
    "    \n",
    "    # populating the list with the p_id of the best 10 matching products\n",
    "    for i in top_10_indexes:\n",
    "        recommended_products.append(list(df.index)[i])\n",
    "        \n",
    "    return recommended_products"
   ]
  },
  {
   "cell_type": "code",
   "execution_count": 15,
   "metadata": {
    "collapsed": true
   },
   "outputs": [
    {
     "ename": "IndexError",
     "evalue": "index 0 is out of bounds for axis 0 with size 0",
     "output_type": "error",
     "traceback": [
      "\u001b[0;31m---------------------------------------------------------------------------\u001b[0m",
      "\u001b[0;31mIndexError\u001b[0m                                Traceback (most recent call last)",
      "\u001b[0;32m<ipython-input-15-c68a329582f9>\u001b[0m in \u001b[0;36m<module>\u001b[0;34m\u001b[0m\n\u001b[0;32m----> 1\u001b[0;31m \u001b[0ma\u001b[0m  \u001b[0;34m=\u001b[0m \u001b[0mrecommendations\u001b[0m\u001b[0;34m(\u001b[0m\u001b[0mint\u001b[0m\u001b[0;34m(\u001b[0m\u001b[0;36m1\u001b[0m\u001b[0;34m)\u001b[0m\u001b[0;34m)\u001b[0m\u001b[0;31m#[7, 8, 9, 10, 11, 12, 13, 14, 5, 130]\u001b[0m\u001b[0;34m\u001b[0m\u001b[0;34m\u001b[0m\u001b[0m\n\u001b[0m",
      "\u001b[0;32m<ipython-input-6-e0029721da2b>\u001b[0m in \u001b[0;36mrecommendations\u001b[0;34m(title)\u001b[0m\n\u001b[1;32m     65\u001b[0m \u001b[0;34m\u001b[0m\u001b[0m\n\u001b[1;32m     66\u001b[0m     \u001b[0;31m# gettin the index of the movie that matches the title\u001b[0m\u001b[0;34m\u001b[0m\u001b[0;34m\u001b[0m\u001b[0;34m\u001b[0m\u001b[0m\n\u001b[0;32m---> 67\u001b[0;31m     \u001b[0midx\u001b[0m \u001b[0;34m=\u001b[0m \u001b[0mindices\u001b[0m\u001b[0;34m[\u001b[0m\u001b[0mindices\u001b[0m \u001b[0;34m==\u001b[0m \u001b[0mtitle\u001b[0m\u001b[0;34m]\u001b[0m\u001b[0;34m.\u001b[0m\u001b[0mindex\u001b[0m\u001b[0;34m[\u001b[0m\u001b[0;36m0\u001b[0m\u001b[0;34m]\u001b[0m\u001b[0;34m\u001b[0m\u001b[0;34m\u001b[0m\u001b[0m\n\u001b[0m\u001b[1;32m     68\u001b[0m \u001b[0;34m\u001b[0m\u001b[0m\n\u001b[1;32m     69\u001b[0m     \u001b[0;31m# creating a Series with the similarity scores in descending order\u001b[0m\u001b[0;34m\u001b[0m\u001b[0;34m\u001b[0m\u001b[0;34m\u001b[0m\u001b[0m\n",
      "\u001b[0;32m~/.virtualenvs/env1/local/lib/python3.7/site-packages/pandas/core/indexes/base.py\u001b[0m in \u001b[0;36m__getitem__\u001b[0;34m(self, key)\u001b[0m\n\u001b[1;32m   2082\u001b[0m \u001b[0;34m\u001b[0m\u001b[0m\n\u001b[1;32m   2083\u001b[0m         \u001b[0;32mif\u001b[0m \u001b[0mis_scalar\u001b[0m\u001b[0;34m(\u001b[0m\u001b[0mkey\u001b[0m\u001b[0;34m)\u001b[0m\u001b[0;34m:\u001b[0m\u001b[0;34m\u001b[0m\u001b[0;34m\u001b[0m\u001b[0m\n\u001b[0;32m-> 2084\u001b[0;31m             \u001b[0;32mreturn\u001b[0m \u001b[0mgetitem\u001b[0m\u001b[0;34m(\u001b[0m\u001b[0mkey\u001b[0m\u001b[0;34m)\u001b[0m\u001b[0;34m\u001b[0m\u001b[0;34m\u001b[0m\u001b[0m\n\u001b[0m\u001b[1;32m   2085\u001b[0m \u001b[0;34m\u001b[0m\u001b[0m\n\u001b[1;32m   2086\u001b[0m         \u001b[0;32mif\u001b[0m \u001b[0misinstance\u001b[0m\u001b[0;34m(\u001b[0m\u001b[0mkey\u001b[0m\u001b[0;34m,\u001b[0m \u001b[0mslice\u001b[0m\u001b[0;34m)\u001b[0m\u001b[0;34m:\u001b[0m\u001b[0;34m\u001b[0m\u001b[0;34m\u001b[0m\u001b[0m\n",
      "\u001b[0;31mIndexError\u001b[0m: index 0 is out of bounds for axis 0 with size 0"
     ]
    }
   ],
   "source": [
    "a  = recommendations(int(1))#[7, 8, 9, 10, 11, 12, 13, 14, 5, 130]\n"
   ]
  },
  {
   "cell_type": "code",
   "execution_count": null,
   "metadata": {},
   "outputs": [],
   "source": []
  }
 ],
 "metadata": {
  "kernelspec": {
   "display_name": "env1",
   "language": "python",
   "name": "env1"
  },
  "language_info": {
   "codemirror_mode": {
    "name": "ipython",
    "version": 3
   },
   "file_extension": ".py",
   "mimetype": "text/x-python",
   "name": "python",
   "nbconvert_exporter": "python",
   "pygments_lexer": "ipython3",
   "version": "3.7.3"
  }
 },
 "nbformat": 4,
 "nbformat_minor": 2
}
